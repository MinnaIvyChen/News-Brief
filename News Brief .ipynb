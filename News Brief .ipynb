{
 "cells": [
  {
   "cell_type": "code",
   "execution_count": 2,
   "id": "b47070bb",
   "metadata": {},
   "outputs": [
    {
     "name": "stdout",
     "output_type": "stream",
     "text": [
      "Defaulting to user installation because normal site-packages is not writeable\n",
      "Requirement already satisfied: sumy in c:\\users\\ivy.chen\\appdata\\roaming\\python\\python39\\site-packages (0.11.0)\n",
      "Requirement already satisfied: nltk>=3.0.2 in c:\\programdata\\anaconda3\\lib\\site-packages (from sumy) (3.7)\n",
      "Requirement already satisfied: requests>=2.7.0 in c:\\users\\ivy.chen\\appdata\\roaming\\python\\python39\\site-packages (from sumy) (2.28.1)\n",
      "Requirement already satisfied: pycountry>=18.2.23 in c:\\users\\ivy.chen\\appdata\\roaming\\python\\python39\\site-packages (from sumy) (22.3.5)\n",
      "Requirement already satisfied: docopt<0.7,>=0.6.1 in c:\\users\\ivy.chen\\appdata\\roaming\\python\\python39\\site-packages (from sumy) (0.6.2)\n",
      "Requirement already satisfied: breadability>=0.1.20 in c:\\users\\ivy.chen\\appdata\\roaming\\python\\python39\\site-packages (from sumy) (0.1.20)\n",
      "Requirement already satisfied: lxml>=2.0 in c:\\programdata\\anaconda3\\lib\\site-packages (from breadability>=0.1.20->sumy) (4.8.0)\n",
      "Requirement already satisfied: chardet in c:\\programdata\\anaconda3\\lib\\site-packages (from breadability>=0.1.20->sumy) (4.0.0)\n",
      "Requirement already satisfied: joblib in c:\\programdata\\anaconda3\\lib\\site-packages (from nltk>=3.0.2->sumy) (1.1.0)\n",
      "Requirement already satisfied: tqdm in c:\\programdata\\anaconda3\\lib\\site-packages (from nltk>=3.0.2->sumy) (4.64.0)\n",
      "Requirement already satisfied: click in c:\\users\\ivy.chen\\appdata\\roaming\\python\\python39\\site-packages (from nltk>=3.0.2->sumy) (8.1.3)\n",
      "Requirement already satisfied: regex>=2021.8.3 in c:\\programdata\\anaconda3\\lib\\site-packages (from nltk>=3.0.2->sumy) (2022.3.15)\n",
      "Requirement already satisfied: setuptools in c:\\programdata\\anaconda3\\lib\\site-packages (from pycountry>=18.2.23->sumy) (61.2.0)\n",
      "Requirement already satisfied: idna<4,>=2.5 in c:\\programdata\\anaconda3\\lib\\site-packages (from requests>=2.7.0->sumy) (3.3)\n",
      "Requirement already satisfied: urllib3<1.27,>=1.21.1 in c:\\programdata\\anaconda3\\lib\\site-packages (from requests>=2.7.0->sumy) (1.26.9)\n",
      "Requirement already satisfied: charset-normalizer<3,>=2 in c:\\programdata\\anaconda3\\lib\\site-packages (from requests>=2.7.0->sumy) (2.0.4)\n",
      "Requirement already satisfied: certifi>=2017.4.17 in c:\\programdata\\anaconda3\\lib\\site-packages (from requests>=2.7.0->sumy) (2021.10.8)\n",
      "Requirement already satisfied: colorama in c:\\programdata\\anaconda3\\lib\\site-packages (from click->nltk>=3.0.2->sumy) (0.4.4)\n"
     ]
    }
   ],
   "source": [
    "!pip install sumy"
   ]
  },
  {
   "cell_type": "code",
   "execution_count": 3,
   "id": "c06b5176",
   "metadata": {},
   "outputs": [
    {
     "name": "stderr",
     "output_type": "stream",
     "text": [
      "[nltk_data] Downloading package punkt to\n",
      "[nltk_data]     C:\\Users\\Ivy.Chen\\AppData\\Roaming\\nltk_data...\n",
      "[nltk_data]   Unzipping tokenizers\\punkt.zip.\n"
     ]
    },
    {
     "data": {
      "text/plain": [
       "True"
      ]
     },
     "execution_count": 3,
     "metadata": {},
     "output_type": "execute_result"
    }
   ],
   "source": [
    "import nltk\n",
    "nltk.download('punkt')"
   ]
  },
  {
   "cell_type": "code",
   "execution_count": 5,
   "id": "1b39b989",
   "metadata": {},
   "outputs": [],
   "source": [
    "from sumy.parsers.html import HtmlParser\n",
    "from sumy.parsers.plaintext import PlaintextParser\n",
    "from sumy.nlp.tokenizers import Tokenizer\n",
    "from sumy.summarizers.lsa import LsaSummarizer as Summarizer\n",
    "from sumy.nlp.stemmers import Stemmer\n",
    "from sumy.utils import get_stop_words"
   ]
  },
  {
   "cell_type": "code",
   "execution_count": 9,
   "id": "33b0c465",
   "metadata": {},
   "outputs": [
    {
     "name": "stdout",
     "output_type": "stream",
     "text": [
      "1. Lawmakers and staffers must delete TikTok from any House-issued mobile phones and are prohibited from downloading the popular app on such devices, according to an internal memo obtained by NBC News.\n",
      "2. The memo, sent Tuesday by Catherine L. Szpindor, the chief administrative officer of the House, said the ban comes after her office’s cybersecurity unit found TikTok to be a \"high risk to users due to a number of security risks.\"\n",
      "3. All lawmakers and staffers were directed to delete the app from their phones.\n",
      "4. \"If you have the TikTok app on your House mobile device, you will be contacted to remove it.\"\n",
      "5. A measure banning TikTok on some government devices was included in the $1.7 trillion omnibus spending bill Congress passed last week.\n",
      "6. The provision included a ban of the app and of any application provided by TikTok’s parent company, ByteDance, based in Beijing, on all executive Branch devices; it did not apply to members of Congress and their staffs.\n",
      "7. The directive from the House does not apply to the Senate, where some members, including Marco Rubio, R-Fla., have called for the app to be completely banned in the U.S.\n",
      "8. FBI Director Christopher Wray warned members of Congress after the midterm elections that the Chinese government could use TikTok to control users’ devices for influence or espionage purposes.\n",
      "9. The company said last week it was working to \"meaningfully address any security concerns that have been raised at both the federal and state level.\n",
      "10. These plans have been developed under the oversight of our country’s top national security agencies — plans that we are well underway in implementing — to further secure our platform in the United States, and we will continue to brief lawmakers on them.\"\n"
     ]
    }
   ],
   "source": [
    "LANGUAGE = \"english\"\n",
    "\n",
    "SENTENCES_COUNT = 10\n",
    "\n",
    "url = \"https://www.nbcnews.com/politics/congress/tiktok-banned-house-issued-mobile-devices-rcna63403\"\n",
    "\n",
    "parser = HtmlParser.from_url(url, Tokenizer(LANGUAGE))\n",
    "summarizer = Summarizer(Stemmer(LANGUAGE))\n",
    "summarizer.stop_words = get_stop_words(LANGUAGE)\n",
    "sumies = summarizer(parser.document, SENTENCES_COUNT)\n",
    "for i, sentence in enumerate(sumies):\n",
    "    print('{}. {}'.format(i+1, sentence))"
   ]
  },
  {
   "cell_type": "code",
   "execution_count": null,
   "id": "03e086be",
   "metadata": {},
   "outputs": [],
   "source": []
  }
 ],
 "metadata": {
  "kernelspec": {
   "display_name": "Python 3 (ipykernel)",
   "language": "python",
   "name": "python3"
  },
  "language_info": {
   "codemirror_mode": {
    "name": "ipython",
    "version": 3
   },
   "file_extension": ".py",
   "mimetype": "text/x-python",
   "name": "python",
   "nbconvert_exporter": "python",
   "pygments_lexer": "ipython3",
   "version": "3.9.12"
  }
 },
 "nbformat": 4,
 "nbformat_minor": 5
}
